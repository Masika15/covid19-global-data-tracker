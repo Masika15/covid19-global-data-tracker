{
 "cells": [
  {
   "cell_type": "markdown",
   "id": "c03b56ef",
   "metadata": {},
   "source": [
    "# COVID-19 Global Data Tracker\n",
    "\n",
    "This notebook loads a self-contained sample COVID-19 dataset (no internet required), explores trends using **pandas**, and visualizes them with **matplotlib**."
   ]
  },
  {
   "cell_type": "code",
   "execution_count": null,
   "id": "821549a1",
   "metadata": {},
   "outputs": [],
   "source": [
    "import pandas as pd\n",
    "import matplotlib.pyplot as plt\n",
    "from pathlib import Path\n",
    "\n",
    "pd.set_option('display.max_rows', 10)\n"
   ]
  },
  {
   "cell_type": "code",
   "execution_count": null,
   "id": "97f288c9",
   "metadata": {},
   "outputs": [],
   "source": [
    "csv_path = Path('covid_data.csv')\n",
    "if not csv_path.exists():\n",
    "    # Fallback: create a tiny dataset inline so the notebook always runs\n",
    "    data = {\n",
    "        'date': ['2020-03-01','2020-03-02','2020-03-03','2020-03-04','2020-03-05'],\n",
    "        'country': ['Kenya','Kenya','Kenya','Kenya','Kenya'],\n",
    "        'new_cases': [5, 8, 13, 21, 34],\n",
    "        'new_deaths': [0, 0, 1, 0, 1]\n",
    "    }\n",
    "    df = pd.DataFrame(data)\n",
    "    df['cumulative_cases'] = df['new_cases'].cumsum()\n",
    "    df['cumulative_deaths'] = df['new_deaths'].cumsum()\n",
    "else:\n",
    "    df = pd.read_csv(csv_path, parse_dates=['date'])\n",
    "df.head()"
   ]
  },
  {
   "cell_type": "markdown",
   "id": "6fb90539",
   "metadata": {},
   "source": [
    "## Quick Exploration\n",
    "- Shape, columns, and date range\n",
    "- Missing values check\n",
    "- Countries available"
   ]
  },
  {
   "cell_type": "code",
   "execution_count": null,
   "id": "f85ffc95",
   "metadata": {},
   "outputs": [],
   "source": [
    "print('Rows, Cols:', df.shape)\n",
    "print('Columns:', list(df.columns))\n",
    "print('Date range:', df['date'].min(), '→', df['date'].max())\n",
    "print('\\nMissing values per column:')\n",
    "print(df.isna().sum())\n",
    "print('\\nCountries:', df['country'].unique())"
   ]
  },
  {
   "cell_type": "markdown",
   "id": "e2c0e281",
   "metadata": {},
   "source": [
    "## Country-Level Aggregation\n",
    "Total cases and deaths per country."
   ]
  },
  {
   "cell_type": "code",
   "execution_count": null,
   "id": "f0bb5f69",
   "metadata": {},
   "outputs": [],
   "source": [
    "summary = (\n",
    "    df.groupby('country')[['new_cases','new_deaths','cumulative_cases','cumulative_deaths']]\n",
    "      .max()\n",
    "      .sort_values('cumulative_cases', ascending=False)\n",
    ")\n",
    "summary"
   ]
  },
  {
   "cell_type": "markdown",
   "id": "f1487519",
   "metadata": {},
   "source": [
    "## Visualizations\n",
    "All plots use **matplotlib** (no seaborn), one chart per figure, and default colors."
   ]
  },
  {
   "cell_type": "code",
   "execution_count": null,
   "id": "5e24ee5a",
   "metadata": {},
   "outputs": [],
   "source": [
    "import matplotlib.pyplot as plt\n",
    "plt.figure()\n",
    "for country, sub in df.groupby('country'):\n",
    "    sub = sub.sort_values('date')\n",
    "    plt.plot(sub['date'], sub['new_cases'], label=country)\n",
    "plt.title('Daily New Cases by Country')\n",
    "plt.xlabel('Date')\n",
    "plt.ylabel('New Cases')\n",
    "plt.legend()\n",
    "plt.xticks(rotation=45)\n",
    "plt.tight_layout()\n",
    "plt.show()"
   ]
  },
  {
   "cell_type": "code",
   "execution_count": null,
   "id": "abbe1413",
   "metadata": {},
   "outputs": [],
   "source": [
    "country_choice = 'Kenya'  # change to explore another country\n",
    "sub = df[df['country'] == country_choice].sort_values('date')\n",
    "plt.figure()\n",
    "plt.plot(sub['date'], sub['cumulative_cases'])\n",
    "plt.title(f'Cumulative Cases — {country_choice}')\n",
    "plt.xlabel('Date')\n",
    "plt.ylabel('Cumulative Cases')\n",
    "plt.xticks(rotation=45)\n",
    "plt.tight_layout()\n",
    "plt.show()"
   ]
  },
  {
   "cell_type": "code",
   "execution_count": null,
   "id": "729c69bd",
   "metadata": {},
   "outputs": [],
   "source": [
    "totals = df.groupby('country')['new_cases'].sum().sort_values(ascending=False)\n",
    "plt.figure()\n",
    "totals.plot(kind='bar')\n",
    "plt.title('Total New Cases by Country (Sample Data)')\n",
    "plt.xlabel('Country')\n",
    "plt.ylabel('Total New Cases')\n",
    "plt.tight_layout()\n",
    "plt.show()"
   ]
  },
  {
   "cell_type": "markdown",
   "id": "8e5022df",
   "metadata": {},
   "source": [
    "## Insights & Reflections\n",
    "- This sample shows how different countries experience varying case trajectories.\n",
    "- Visualizing cumulative vs. daily metrics tells different parts of the story.\n",
    "- A reproducible, offline dataset ensures the notebook runs end-to-end without network access."
   ]
  }
 ],
 "metadata": {},
 "nbformat": 4,
 "nbformat_minor": 5
}
